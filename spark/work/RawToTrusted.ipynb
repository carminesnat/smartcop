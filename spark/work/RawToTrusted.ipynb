{
 "cells": [
  {
   "cell_type": "markdown",
   "id": "4bf0d324-6252-4bee-8a53-37189977952a",
   "metadata": {
    "tags": []
   },
   "source": [
    "# Sessão Spark e Configurações Iniciais"
   ]
  },
  {
   "cell_type": "code",
   "execution_count": 80,
   "id": "ff56a975-3bec-476d-9150-4ae3b614da77",
   "metadata": {},
   "outputs": [],
   "source": [
    "from pyspark.sql import SparkSession"
   ]
  },
  {
   "cell_type": "code",
   "execution_count": 81,
   "id": "cf5d57ff-7822-4b20-9da6-c83078bd46d1",
   "metadata": {},
   "outputs": [
    {
     "data": {
      "text/html": [
       "\n",
       "            <div>\n",
       "                <p><b>SparkSession - in-memory</b></p>\n",
       "                \n",
       "        <div>\n",
       "            <p><b>SparkContext</b></p>\n",
       "\n",
       "            <p><a href=\"http://spark-master:4040\">Spark UI</a></p>\n",
       "\n",
       "            <dl>\n",
       "              <dt>Version</dt>\n",
       "                <dd><code>v3.3.1</code></dd>\n",
       "              <dt>Master</dt>\n",
       "                <dd><code>local[*]</code></dd>\n",
       "              <dt>AppName</dt>\n",
       "                <dd><code>ProcessRawToTrusted</code></dd>\n",
       "            </dl>\n",
       "        </div>\n",
       "        \n",
       "            </div>\n",
       "        "
      ],
      "text/plain": [
       "<pyspark.sql.session.SparkSession at 0x7f74272f56f0>"
      ]
     },
     "execution_count": 81,
     "metadata": {},
     "output_type": "execute_result"
    }
   ],
   "source": [
    "spark"
   ]
  },
  {
   "cell_type": "code",
   "execution_count": 82,
   "id": "635a68ad-19d6-4257-926f-fd79065c030a",
   "metadata": {},
   "outputs": [],
   "source": [
    "# Inicializa a sessão Spark\n",
    "spark = SparkSession.builder.appName(\"ProcessRawToTrusted\").getOrCreate()\n",
    "\n",
    "# Configura o acesso ao MinIO\n",
    "hadoop_conf = spark.sparkContext._jsc.hadoopConfiguration()\n",
    "hadoop_conf.set(\"fs.s3a.access.key\", \"datalake\")\n",
    "hadoop_conf.set(\"fs.s3a.secret.key\", \"datalake\")\n",
    "hadoop_conf.set(\"fs.s3a.endpoint\", \"http://minio:9000\")\n",
    "hadoop_conf.set(\"fs.s3a.path.style.access\", \"true\")\n",
    "hadoop_conf.set(\"fs.s3a.impl\", \"org.apache.hadoop.fs.s3a.S3AFileSystem\")"
   ]
  },
  {
   "cell_type": "code",
   "execution_count": 165,
   "id": "0089b22b-7ef6-4ea4-a9b8-62b4a371455a",
   "metadata": {},
   "outputs": [
    {
     "name": "stdout",
     "output_type": "stream",
     "text": [
      "2024-10-13\n"
     ]
    }
   ],
   "source": [
    "# Defina o caminho de entrada e saída com base na data\n",
    "import pytz\n",
    "from datetime import datetime\n",
    "\n",
    "fuso_horario_brasilia = pytz.timezone('America/Sao_Paulo')\n",
    "brasilia_time = datetime.now(fuso_horario_brasilia)\n",
    "today = brasilia_time.strftime('%Y-%m-%d')\n",
    "\n",
    "raw_path = f\"s3a://raw/busposition/{today}\"\n",
    "trusted_path = f\"s3a://trusted/busposition/{today}\"\n",
    "\n",
    "routes_trusted_path = f\"s3a://trusted/routes/{today}/\"\n",
    "positions_trusted_path = f\"s3a://trusted/positions/{today}/\""
   ]
  },
  {
   "cell_type": "markdown",
   "id": "4ee2e126-f726-4af3-aa7c-bfce20e0e678",
   "metadata": {
    "tags": []
   },
   "source": [
    "# ETL da Camanda Raw para Trusted"
   ]
  },
  {
   "cell_type": "code",
   "execution_count": 172,
   "id": "e014dce0-afff-4ea9-962b-3f2c79ced7b9",
   "metadata": {
    "tags": []
   },
   "outputs": [],
   "source": [
    "\n",
    "from pyspark.sql.functions import explode, col\n",
    "# Exibe a lista de arquivos\n",
    "files_df = spark.read.format(\"binaryFile\").load(raw_path)\n",
    "# Itera sobre os arquivos\n",
    "for row in files_df.collect():\n",
    "    raw_file_path = row[\"path\"]\n",
    "    raw_file_date = raw_file_path.split('_')[-1].split('.')[0]\n",
    "    df_raw = spark.read.json(raw_file_path)\n",
    "    \n",
    "    # Explodir o array \"l\" para acessar as informações de cada linha de ônibus\n",
    "    df_lines = df_raw.select(explode(col(\"l\")).alias(\"linha\"))\n",
    "\n",
    "    # DataFrame com as informações de \"c\" até \"qv\"\n",
    "    df_bus_lines = df_lines.select(\n",
    "        col(\"linha.cl\").alias(\"codigo_trajeto\"),\n",
    "        col(\"linha.sl\").alias(\"sentido\"),\n",
    "        col(\"linha.c\").alias(\"letreiro\"),\n",
    "        col(\"linha.lt0\").alias(\"terminal_primario\"),\n",
    "        col(\"linha.lt1\").alias(\"terminal_secundario\"),\n",
    "        col(\"linha.qv\").alias(\"qnt_veiculos\")\n",
    "    )\n",
    "\n",
    "    # Explodir o array \"vs\" para acessar as informações de cada veículo dentro da linha de ônibus\n",
    "    df_vehicles = df_lines.select(\n",
    "        col(\"linha.cl\").alias(\"codigo_trajeto\"),\n",
    "        col(\"linha.sl\").alias(\"sentido\"),\n",
    "        explode(col(\"linha.vs\")).alias(\"vehicle\")\n",
    "    )\n",
    "\n",
    "    # DataFrame com as informações de \"p\" até \"px\"\n",
    "    df_vehicles_position = df_vehicles.select(\n",
    "        col(\"codigo_trajeto\"),\n",
    "        col(\"sentido\"),\n",
    "        col(\"vehicle.p\").alias(\"prefixo_veiculo\"),\n",
    "        col(\"vehicle.py\").alias(\"latitude\"),\n",
    "        col(\"vehicle.px\").alias(\"longitude\")\n",
    "    )\n",
    "    \n",
    "    # Salva os DataFrames no caminho definido\n",
    "    #df_bus_lines.write.mode(\"overwrite\").json(routes_trusted_path + 'routes_' + raw_file_date)\n",
    "    #df_vehicles_position.write.mode(\"overwrite\").json(positions_trusted_path + 'positions_' + raw_file_date)\n"
   ]
  },
  {
   "cell_type": "code",
   "execution_count": 173,
   "id": "ab323724-38bf-41a8-ac9b-42b8b4fec902",
   "metadata": {},
   "outputs": [
    {
     "name": "stdout",
     "output_type": "stream",
     "text": [
      "+--------------+-------+--------+--------------------+--------------------+------------+\n",
      "|codigo_trajeto|sentido|letreiro|   terminal_primario| terminal_secundario|qnt_veiculos|\n",
      "+--------------+-------+--------+--------------------+--------------------+------------+\n",
      "|           780|      1| 736G-10|       SHOP. MORUMBI|            JD. INGÁ|           2|\n",
      "|           846|      1| 1702-10|               TIETÊ|          JOVA RURAL|           6|\n",
      "|         33893|      2| 5123-10|     HOSP. SÃO PAULO|          JD. MIRIAM|           3|\n",
      "|         35230|      2| 709M-10|     TERM. PINHEIROS|    TERM. STO. AMARO|           2|\n",
      "|          1986|      1| 6076-41|    TERM. STO. AMARO|     JD. SATÉLITE II|           1|\n",
      "|         32877|      2| 675R-10|     METRÔ JABAQUARA|              GRAJAÚ|           3|\n",
      "|         33432|      2| 172N-10|         METRÔ BELÉM|  SHOP. CENTER NORTE|           6|\n",
      "|         33157|      2| 273J-10|         METRÔ PENHA|          JD. ROMANO|           8|\n",
      "|          1887|      1| 7053-10|   TERM. CAMPO LIMPO|       JD. MACEDÔNIA|           2|\n",
      "|          1782|      1| 1765-10|      METRÔ TUCURUVI|          JD. CABUÇU|           2|\n",
      "|           623|      1| 175T-10|     METRÔ JABAQUARA|       METRÔ SANTANA|           6|\n",
      "|          1221|      1| 6044-10|    TERM. STO. AMARO|         JD. D. JOSÉ|           6|\n",
      "|         33515|      2| 342M-10|         TERM. PENHA|    TERM. SÃO MATEUS|          15|\n",
      "|           207|      1| 208V-10|TERM. PQ. D. PEDR...|TERM. A. E. CARVALHO|          20|\n",
      "|         34659|      2| 809P-10|     TERM. PINHEIROS|   TERM. CAMPO LIMPO|           6|\n",
      "|         35035|      2| 2025-10|             SANTANA|     VL. NOVA GALVÃO|           5|\n",
      "|          1165|      1| 6076-10|    TERM. STO. AMARO|       JD. PROGRESSO|           3|\n",
      "|         34439|      2| 514T-10|CONJ. HAB. TEOTÔN...|        TERM. SACOMÃ|           7|\n",
      "|         33566|      2| 8010-10|                LAPA|               PERUS|           5|\n",
      "|         34983|      2| 407E-10|        METRÔ CARRÃO|      JD. STO. ANDRÉ|           6|\n",
      "+--------------+-------+--------+--------------------+--------------------+------------+\n",
      "only showing top 20 rows\n",
      "\n"
     ]
    }
   ],
   "source": [
    "df_bus_lines.show()"
   ]
  },
  {
   "cell_type": "code",
   "execution_count": 174,
   "id": "7a6aca91-6eab-4b14-9551-38b1094c017b",
   "metadata": {},
   "outputs": [
    {
     "name": "stdout",
     "output_type": "stream",
     "text": [
      "+--------------+-------+---------------+-------------------+-------------------+\n",
      "|codigo_trajeto|sentido|prefixo_veiculo|           latitude|          longitude|\n",
      "+--------------+-------+---------------+-------------------+-------------------+\n",
      "|           780|      1|          86177|        -23.6190115|        -46.6997825|\n",
      "|           780|      1|          86366|         -23.618506|         -46.699464|\n",
      "|           846|      1|          25638|         -23.442846|          -46.57655|\n",
      "|           846|      1|          25633|        -23.4789755|        -46.5991595|\n",
      "|           846|      1|          25635|-23.504054125000003|-46.624669499999996|\n",
      "|           846|      1|          25211|-23.494891000000003|        -46.6106765|\n",
      "|           846|      1|          25650|      -23.466649875|-46.583931375000006|\n",
      "|           846|      1|          25220|        -23.4454635|-46.577521000000004|\n",
      "|         33893|      2|          68167|-23.678414500000002|       -46.63006525|\n",
      "|         33893|      2|          68247|-23.600693062500003|      -46.636764875|\n",
      "|         33893|      2|          68069|-23.633570749999997|       -46.64156375|\n",
      "|         35230|      2|          76099|         -23.578837|        -46.6860305|\n",
      "|         35230|      2|          76068|         -23.596595|         -46.691214|\n",
      "|          1986|      1|          66781|-23.678549500000003|         -46.710634|\n",
      "|         32877|      2|          61415|-23.702261874999998|-46.701778125000004|\n",
      "|         32877|      2|          61414|        -23.7540455|-46.680603500000004|\n",
      "|         32877|      2|          61410|        -23.6433345|        -46.6729095|\n",
      "|         33432|      2|          21710|-23.512629437500003|        -46.6160635|\n",
      "|         33432|      2|          21738|       -23.51559625|       -46.61637925|\n",
      "|         33432|      2|          21750|-23.515946749999998|       -46.61641775|\n",
      "+--------------+-------+---------------+-------------------+-------------------+\n",
      "only showing top 20 rows\n",
      "\n"
     ]
    }
   ],
   "source": [
    "df_vehicles_position.show()"
   ]
  },
  {
   "cell_type": "code",
   "execution_count": null,
   "id": "a05d3a2e-f630-41bc-b5a1-46e0ce961edd",
   "metadata": {},
   "outputs": [],
   "source": []
  },
  {
   "cell_type": "code",
   "execution_count": null,
   "id": "3d8a0323-82d7-4c4e-b918-0d0ba1caf351",
   "metadata": {},
   "outputs": [],
   "source": []
  },
  {
   "cell_type": "code",
   "execution_count": null,
   "id": "78e4e515-78e0-4248-9680-2aa62b0d60d8",
   "metadata": {},
   "outputs": [],
   "source": []
  },
  {
   "cell_type": "code",
   "execution_count": null,
   "id": "fc1d6484-7a9b-494c-a3f9-383d4445fe06",
   "metadata": {},
   "outputs": [],
   "source": []
  },
  {
   "cell_type": "code",
   "execution_count": null,
   "id": "abbd183b-7ba6-4ac3-a0ab-0122ba48df37",
   "metadata": {},
   "outputs": [],
   "source": []
  },
  {
   "cell_type": "code",
   "execution_count": null,
   "id": "514f6147-62ee-4a5a-9884-af5c24f72b36",
   "metadata": {},
   "outputs": [],
   "source": []
  },
  {
   "cell_type": "code",
   "execution_count": null,
   "id": "3d9288b2-a6af-4385-b353-a342d91c314c",
   "metadata": {},
   "outputs": [],
   "source": []
  },
  {
   "cell_type": "code",
   "execution_count": null,
   "id": "d5ead75d-144f-4b35-ac98-07b16c0c964f",
   "metadata": {},
   "outputs": [],
   "source": []
  },
  {
   "cell_type": "code",
   "execution_count": null,
   "id": "c3b96c5a-841d-49ba-9fe4-a79c6889abd3",
   "metadata": {},
   "outputs": [],
   "source": []
  }
 ],
 "metadata": {
  "kernelspec": {
   "display_name": "Python 3 (ipykernel)",
   "language": "python",
   "name": "python3"
  },
  "language_info": {
   "codemirror_mode": {
    "name": "ipython",
    "version": 3
   },
   "file_extension": ".py",
   "mimetype": "text/x-python",
   "name": "python",
   "nbconvert_exporter": "python",
   "pygments_lexer": "ipython3",
   "version": "3.10.8"
  }
 },
 "nbformat": 4,
 "nbformat_minor": 5
}
