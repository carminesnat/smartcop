{
 "cells": [
  {
   "cell_type": "markdown",
   "id": "4bf0d324-6252-4bee-8a53-37189977952a",
   "metadata": {
    "tags": []
   },
   "source": [
    "# ETL Bus Position"
   ]
  },
  {
   "cell_type": "code",
   "execution_count": 4,
   "id": "ff56a975-3bec-476d-9150-4ae3b614da77",
   "metadata": {},
   "outputs": [],
   "source": [
    "import pytz\n",
    "import os\n",
    "from pyspark.sql import SparkSession\n",
    "from datetime import datetime\n",
    "from pyspark.sql.functions import explode, col"
   ]
  },
  {
   "cell_type": "code",
   "execution_count": 5,
   "id": "635a68ad-19d6-4257-926f-fd79065c030a",
   "metadata": {},
   "outputs": [
    {
     "data": {
      "text/html": [
       "\n",
       "            <div>\n",
       "                <p><b>SparkSession - in-memory</b></p>\n",
       "                \n",
       "        <div>\n",
       "            <p><b>SparkContext</b></p>\n",
       "\n",
       "            <p><a href=\"http://spark-master:4040\">Spark UI</a></p>\n",
       "\n",
       "            <dl>\n",
       "              <dt>Version</dt>\n",
       "                <dd><code>v3.3.1</code></dd>\n",
       "              <dt>Master</dt>\n",
       "                <dd><code>local[*]</code></dd>\n",
       "              <dt>AppName</dt>\n",
       "                <dd><code>ProcessRawToTrusted</code></dd>\n",
       "            </dl>\n",
       "        </div>\n",
       "        \n",
       "            </div>\n",
       "        "
      ],
      "text/plain": [
       "<pyspark.sql.session.SparkSession at 0x7ff17230d330>"
      ]
     },
     "execution_count": 5,
     "metadata": {},
     "output_type": "execute_result"
    }
   ],
   "source": [
    "# Inicializa a sessão Spark\n",
    "spark = SparkSession.builder.appName(\"ProcessRawToTrusted\").getOrCreate()\n",
    "\n",
    "# Configura o acesso ao MinIO\n",
    "hadoop_conf = spark.sparkContext._jsc.hadoopConfiguration()\n",
    "hadoop_conf.set(\"fs.s3a.access.key\", \"datalake\")\n",
    "hadoop_conf.set(\"fs.s3a.secret.key\", \"datalake\")\n",
    "hadoop_conf.set(\"fs.s3a.endpoint\", \"http://minio:9000\")\n",
    "hadoop_conf.set(\"fs.s3a.path.style.access\", \"true\")\n",
    "hadoop_conf.set(\"fs.s3a.impl\", \"org.apache.hadoop.fs.s3a.S3AFileSystem\")\n",
    "\n",
    "spark"
   ]
  },
  {
   "cell_type": "code",
   "execution_count": 6,
   "id": "0089b22b-7ef6-4ea4-a9b8-62b4a371455a",
   "metadata": {},
   "outputs": [],
   "source": [
    "# Defina o caminho de entrada e saída com base na data\n",
    "fuso_horario_brasilia = pytz.timezone('America/Sao_Paulo')\n",
    "brasilia_time = datetime.now(fuso_horario_brasilia)\n",
    "today = brasilia_time.strftime('%Y-%m-%d')\n",
    "\n",
    "raw_path = f\"s3a://raw/busdata/{today}\"\n",
    "trusted_path = f\"s3a://trusted/busposition/{today}\"\n",
    "\n",
    "routes_trusted_path = f\"s3a://trusted/routes/{today}/\"\n",
    "positions_trusted_path = f\"s3a://trusted/positions/{today}/\""
   ]
  },
  {
   "cell_type": "code",
   "execution_count": 8,
   "id": "fdb0bf2a-43af-4e01-9ff8-7559d6e731ab",
   "metadata": {},
   "outputs": [
    {
     "name": "stdout",
     "output_type": "stream",
     "text": [
      "+--------------+-------+--------+--------------------+-------------------+------------+\n",
      "|codigo_trajeto|sentido|letreiro|   terminal_primario|terminal_secundario|qnt_veiculos|\n",
      "+--------------+-------+--------+--------------------+-------------------+------------+\n",
      "|          1215|      1| 6037-10|     TERM. CAPELINHA|      JD. MITSUTANI|           5|\n",
      "|         34390|      2| 695Y-21|      EST. AUTÓDROMO|  TERM. PARELHEIROS|           2|\n",
      "|         33935|      2| 6L11-10|        TERM. GRAJAÚ|     ILHA DO BORORÉ|           5|\n",
      "|         33104|      2| 4718-10|     METRÔ STA. CRUZ|        JD. CELESTE|           1|\n",
      "|         34856|      2| 9050-10|          ITAIM BIBI|         TERM. LAPA|           6|\n",
      "|          2135|      1| 199D-10|     TERM. PINHEIROS|  CONEXÃO VL. IÓRIO|           5|\n",
      "|         34076|      2| 5185-10|TERM. PQ. D. PEDR...| TERM. GUARAPIRANGA|          11|\n",
      "|         33020|      2| 263C-10|            COHAB II|         JD. HELENA|           3|\n",
      "|          1074|      1| 3796-10|      METRÔ ITAQUERA|   GLEBA DO PESSEGO|           5|\n",
      "|         32874|      2| 675G-10|     METRÔ JABAQUARA|    PQ. RES. COCAIA|           9|\n",
      "|          1098|      1| 4028-10|        DIV. DE MAUÁ|   HOSP. SÃO MATEUS|           5|\n",
      "|           456|      1| 917H-10|   METRÔ VL. MARIANA|     TERM. PIRITUBA|          14|\n",
      "|           704|      1| 271P-10|      PÇA DO CORREIO|           CANGAÍBA|           4|\n",
      "|          1193|      1| 6726-10|     JD. GAIVOTAS   |       TERM. GRAJAÚ|          11|\n",
      "|         35246|      2| 208M-10|     TERM. PINHEIROS|      METRÔ SANTANA|           4|\n",
      "|          2191|      1| 4018-10|    TERM. SÃO MATEUS|       METALÚRGICOS|           8|\n",
      "|           614|      1| 971R-10|       METRÔ SANTANA|       CPTM JARAGUÁ|          11|\n",
      "|          2601|      1| 3789-51|            CIRCULAR|       METALÚRGICOS|           1|\n",
      "|         33174|      2| 8040-10|          TERM. LAPA|       SOL NASCENTE|           5|\n",
      "|         34965|      2| 407H-10|      METRÔ ITAQUERA|  JD. SÃO FRANCISCO|           8|\n",
      "+--------------+-------+--------+--------------------+-------------------+------------+\n",
      "only showing top 20 rows\n",
      "\n"
     ]
    }
   ],
   "source": [
    "# Exibe a lista de arquivos\n",
    "files_df = spark.read.format(\"binaryFile\").load(raw_path)\n",
    "\n",
    "# Pega o primeiro arquivo para gerar o df_bus_lines\n",
    "first_raw_file_path = files_df.collect()[0][\"path\"]\n",
    "file_name = os.path.basename(first_raw_file_path).replace(\".json\", \"\")\n",
    "                                                          \n",
    "df_raw = spark.read.json(first_raw_file_path)\n",
    "\n",
    "# Explodir o array \"l\" para acessar as informações de cada linha de ônibus\n",
    "df_lines = df_raw.select(explode(col(\"l\")).alias(\"linha\"))\n",
    "\n",
    "# DataFrame com as informações de \"c\" até \"qv\" (linhas de ônibus)\n",
    "df_bus_lines = df_lines.select(\n",
    "    col(\"linha.cl\").alias(\"codigo_trajeto\"),\n",
    "    col(\"linha.sl\").alias(\"sentido\"),\n",
    "    col(\"linha.c\").alias(\"letreiro\"),\n",
    "    col(\"linha.lt0\").alias(\"terminal_primario\"),\n",
    "    col(\"linha.lt1\").alias(\"terminal_secundario\"),\n",
    "    col(\"linha.qv\").alias(\"qnt_veiculos\")\n",
    ")\n",
    "# Salva o df_bus_lines no caminho apenas uma vez\n",
    "# Define o caminho de destino usando o nome do arquivo original\n",
    "destination_path = os.path.join(trusted_path, file_name)\n",
    "    \n",
    "# Salva o DataFrame processado no formato Parquet\n",
    "df_bus_lines.write.mode(\"overwrite\").parquet(destination_path)\n",
    "#df_bus_lines.write.mode(\"overwrite\").json(routes_trusted_path + 'routes_' + today)\n",
    "df_bus_lines.show()"
   ]
  },
  {
   "cell_type": "code",
   "execution_count": 5,
   "id": "cab8d31c-a334-4e50-99e2-daa2db29a1bc",
   "metadata": {},
   "outputs": [],
   "source": [
    "# Itera sobre os arquivos para processar as posições dos veículos\n",
    "for row in files_df.collect():\n",
    "    raw_file_path = row[\"path\"]\n",
    "    raw_file_date = raw_file_path.split('_')[-1].split('.')[0]\n",
    "    df_raw = spark.read.json(raw_file_path)\n",
    "    \n",
    "    # Explodir o array \"l\" para acessar as informações de cada linha de ônibus\n",
    "    df_lines = df_raw.select(explode(col(\"l\")).alias(\"linha\"))\n",
    "\n",
    "    # Explodir o array \"vs\" para acessar as informações de cada veículo dentro da linha de ônibus\n",
    "    df_vehicles = df_lines.select(\n",
    "        col(\"linha.cl\").alias(\"codigo_trajeto\"),\n",
    "        col(\"linha.sl\").alias(\"sentido\"),\n",
    "        explode(col(\"linha.vs\")).alias(\"vehicle\")\n",
    "    )\n",
    "\n",
    "    # DataFrame com as informações de \"p\" até \"px\" (posições dos veículos)\n",
    "    df_vehicles_position = df_vehicles.select(\n",
    "        col(\"codigo_trajeto\"),\n",
    "        col(\"sentido\"),\n",
    "        col(\"vehicle.p\").alias(\"prefixo_veiculo\"),\n",
    "        col(\"vehicle.py\").alias(\"latitude\"),\n",
    "        col(\"vehicle.px\").alias(\"longitude\")\n",
    "    )\n",
    "    \n",
    "    # Salva as posições dos veículos no caminho de saída\n",
    "    df_vehicles_position.write.mode(\"overwrite\").json(positions_trusted_path + 'positions_' + raw_file_date)"
   ]
  },
  {
   "cell_type": "code",
   "execution_count": 6,
   "id": "7a6aca91-6eab-4b14-9551-38b1094c017b",
   "metadata": {},
   "outputs": [
    {
     "name": "stdout",
     "output_type": "stream",
     "text": [
      "+--------------+-------+---------------+-------------------+-------------------+\n",
      "|codigo_trajeto|sentido|prefixo_veiculo|           latitude|          longitude|\n",
      "+--------------+-------+---------------+-------------------+-------------------+\n",
      "|          1215|      1|          78141|-23.654442500000002|        -46.7623235|\n",
      "|          1215|      1|          78196|         -23.649639|        -46.7841365|\n",
      "|          1215|      1|          78995|        -23.6493575|        -46.7848365|\n",
      "|          1215|      1|          78874|-23.658293999999998|        -46.7752675|\n",
      "|         34209|      2|          61793|-23.767454999999998|-46.716910999999996|\n",
      "|         34209|      2|          61588|      -23.710868125|-46.699293624999996|\n",
      "|         34209|      2|          61552|-23.647087499999998|          -46.63931|\n",
      "|         34209|      2|          61795|       -23.67837375|-46.684760749999995|\n",
      "|         34209|      2|          61541|       -23.64654725|       -46.64174575|\n",
      "|         34209|      2|          61532|      -23.637615875|       -46.66912325|\n",
      "|         34209|      2|          61792|-23.647087499999998|          -46.63931|\n",
      "|         34209|      2|          61791|        -23.6416405|         -46.655144|\n",
      "|         34209|      2|          61767|        -23.6629765|        -46.6789515|\n",
      "|         34209|      2|          61676|         -23.732244|-46.697950000000006|\n",
      "|         34209|      2|          61217|          -23.76583|         -46.717698|\n",
      "|         34209|      2|          61765|       -23.67884875|       -46.68550675|\n",
      "|          1167|      1|          66852|       -23.73624075|       -46.69617425|\n",
      "|          1167|      1|          66053|        -23.7668425|      -46.650896625|\n",
      "|           336|      1|          51041|      -23.602659875|-46.635017500000004|\n",
      "|           336|      1|          51075|        -23.6566445|        -46.6123105|\n",
      "+--------------+-------+---------------+-------------------+-------------------+\n",
      "only showing top 20 rows\n",
      "\n"
     ]
    }
   ],
   "source": [
    "df_vehicles_position.show()"
   ]
  },
  {
   "cell_type": "code",
   "execution_count": 10,
   "id": "102df309-795f-4215-8ee1-dabd875d5baf",
   "metadata": {},
   "outputs": [],
   "source": [
    "# Encerra a sessão Spark\n",
    "spark.stop()"
   ]
  },
  {
   "cell_type": "code",
   "execution_count": 6,
   "id": "3d8a0323-82d7-4c4e-b918-0d0ba1caf351",
   "metadata": {},
   "outputs": [],
   "source": [
    "# ----------------------------------------------------------------------------------------------------------------- #"
   ]
  },
  {
   "cell_type": "code",
   "execution_count": null,
   "id": "abbd183b-7ba6-4ac3-a0ab-0122ba48df37",
   "metadata": {},
   "outputs": [],
   "source": []
  },
  {
   "cell_type": "markdown",
   "id": "cf3c75fc-d0ce-44f9-bb61-ca26293b2242",
   "metadata": {},
   "source": [
    "# ETL Volumetria de Passageiros "
   ]
  },
  {
   "cell_type": "code",
   "execution_count": 11,
   "id": "3d9288b2-a6af-4385-b353-a342d91c314c",
   "metadata": {},
   "outputs": [],
   "source": [
    "from pyspark.sql import SparkSession\n",
    "from pyspark.sql.functions import lit\n",
    "from pyspark.sql.functions import col\n",
    "import os"
   ]
  },
  {
   "cell_type": "code",
   "execution_count": 13,
   "id": "d5ead75d-144f-4b35-ac98-07b16c0c964f",
   "metadata": {},
   "outputs": [
    {
     "data": {
      "text/html": [
       "\n",
       "            <div>\n",
       "                <p><b>SparkSession - in-memory</b></p>\n",
       "                \n",
       "        <div>\n",
       "            <p><b>SparkContext</b></p>\n",
       "\n",
       "            <p><a href=\"http://spark-master:4040\">Spark UI</a></p>\n",
       "\n",
       "            <dl>\n",
       "              <dt>Version</dt>\n",
       "                <dd><code>v3.3.1</code></dd>\n",
       "              <dt>Master</dt>\n",
       "                <dd><code>local[*]</code></dd>\n",
       "              <dt>AppName</dt>\n",
       "                <dd><code>ProcessPassangers</code></dd>\n",
       "            </dl>\n",
       "        </div>\n",
       "        \n",
       "            </div>\n",
       "        "
      ],
      "text/plain": [
       "<pyspark.sql.session.SparkSession at 0x7fe007325ed0>"
      ]
     },
     "execution_count": 13,
     "metadata": {},
     "output_type": "execute_result"
    }
   ],
   "source": [
    "# Inicializa a sessão Spark\n",
    "spark = SparkSession.builder \\\n",
    "    .appName(\"ProcessPassangers\") \\\n",
    "    .config(\"spark.jars.packages\", \"com.crealytics:spark-excel_2.12:3.2.1_0.17.6\") \\\n",
    "    .getOrCreate()\n",
    "\n",
    "# Configura o acesso ao MinIO\n",
    "hadoop_conf = spark.sparkContext._jsc.hadoopConfiguration()\n",
    "hadoop_conf.set(\"fs.s3a.access.key\", \"datalake\")\n",
    "hadoop_conf.set(\"fs.s3a.secret.key\", \"datalake\")\n",
    "hadoop_conf.set(\"fs.s3a.endpoint\", \"http://minio:9000\")\n",
    "hadoop_conf.set(\"fs.s3a.path.style.access\", \"true\")\n",
    "hadoop_conf.set(\"fs.s3a.impl\", \"org.apache.hadoop.fs.s3a.S3AFileSystem\")\n",
    "\n",
    "spark"
   ]
  },
  {
   "cell_type": "code",
   "execution_count": 14,
   "id": "c3b96c5a-841d-49ba-9fe4-a79c6889abd3",
   "metadata": {},
   "outputs": [],
   "source": [
    "# Defina o caminho onde os arquivos Excel estão localizados e onde serão salvos\n",
    "raw_path = \"s3a://raw/passageiros/2023/\"\n",
    "trusted_path = \"s3a://raw/passageiros/2023/\""
   ]
  },
  {
   "cell_type": "code",
   "execution_count": 15,
   "id": "2f12cc2b-a3c8-4d77-9d2b-9ad7428b92f4",
   "metadata": {
    "collapsed": true,
    "jupyter": {
     "outputs_hidden": true
    },
    "tags": []
   },
   "outputs": [
    {
     "ename": "Py4JJavaError",
     "evalue": "An error occurred while calling o102.load.\n: java.lang.ClassNotFoundException: \nFailed to find data source: com.crealytics.spark.excel. Please find packages at\nhttps://spark.apache.org/third-party-projects.html\n       \n\tat org.apache.spark.sql.errors.QueryExecutionErrors$.failedToFindDataSourceError(QueryExecutionErrors.scala:587)\n\tat org.apache.spark.sql.execution.datasources.DataSource$.lookupDataSource(DataSource.scala:675)\n\tat org.apache.spark.sql.execution.datasources.DataSource$.lookupDataSourceV2(DataSource.scala:725)\n\tat org.apache.spark.sql.DataFrameReader.load(DataFrameReader.scala:207)\n\tat org.apache.spark.sql.DataFrameReader.load(DataFrameReader.scala:185)\n\tat java.base/jdk.internal.reflect.NativeMethodAccessorImpl.invoke0(Native Method)\n\tat java.base/jdk.internal.reflect.NativeMethodAccessorImpl.invoke(NativeMethodAccessorImpl.java:77)\n\tat java.base/jdk.internal.reflect.DelegatingMethodAccessorImpl.invoke(DelegatingMethodAccessorImpl.java:43)\n\tat java.base/java.lang.reflect.Method.invoke(Method.java:568)\n\tat py4j.reflection.MethodInvoker.invoke(MethodInvoker.java:244)\n\tat py4j.reflection.ReflectionEngine.invoke(ReflectionEngine.java:357)\n\tat py4j.Gateway.invoke(Gateway.java:282)\n\tat py4j.commands.AbstractCommand.invokeMethod(AbstractCommand.java:132)\n\tat py4j.commands.CallCommand.execute(CallCommand.java:79)\n\tat py4j.ClientServerConnection.waitForCommands(ClientServerConnection.java:182)\n\tat py4j.ClientServerConnection.run(ClientServerConnection.java:106)\n\tat java.base/java.lang.Thread.run(Thread.java:833)\nCaused by: java.lang.ClassNotFoundException: com.crealytics.spark.excel.DefaultSource\n\tat java.base/java.net.URLClassLoader.findClass(URLClassLoader.java:445)\n\tat java.base/java.lang.ClassLoader.loadClass(ClassLoader.java:587)\n\tat java.base/java.lang.ClassLoader.loadClass(ClassLoader.java:520)\n\tat org.apache.spark.sql.execution.datasources.DataSource$.$anonfun$lookupDataSource$5(DataSource.scala:661)\n\tat scala.util.Try$.apply(Try.scala:213)\n\tat org.apache.spark.sql.execution.datasources.DataSource$.$anonfun$lookupDataSource$4(DataSource.scala:661)\n\tat scala.util.Failure.orElse(Try.scala:224)\n\tat org.apache.spark.sql.execution.datasources.DataSource$.lookupDataSource(DataSource.scala:661)\n\t... 15 more\n",
     "output_type": "error",
     "traceback": [
      "\u001b[0;31m---------------------------------------------------------------------------\u001b[0m",
      "\u001b[0;31mPy4JJavaError\u001b[0m                             Traceback (most recent call last)",
      "Cell \u001b[0;32mIn[15], line 15\u001b[0m\n\u001b[1;32m      6\u001b[0m file_name \u001b[38;5;241m=\u001b[39m os\u001b[38;5;241m.\u001b[39mpath\u001b[38;5;241m.\u001b[39mbasename(excel_file_path)\u001b[38;5;241m.\u001b[39mreplace(\u001b[38;5;124m\"\u001b[39m\u001b[38;5;124m.xlsx\u001b[39m\u001b[38;5;124m\"\u001b[39m, \u001b[38;5;124m\"\u001b[39m\u001b[38;5;124m\"\u001b[39m)\n\u001b[1;32m      8\u001b[0m \u001b[38;5;66;03m# Lê cada planilha Excel (primeira aba por padrão)\u001b[39;00m\n\u001b[1;32m      9\u001b[0m df_excel \u001b[38;5;241m=\u001b[39m \u001b[43mspark\u001b[49m\u001b[38;5;241;43m.\u001b[39;49m\u001b[43mread\u001b[49m\u001b[38;5;241;43m.\u001b[39;49m\u001b[43mformat\u001b[49m\u001b[43m(\u001b[49m\u001b[38;5;124;43m\"\u001b[39;49m\u001b[38;5;124;43mcom.crealytics.spark.excel\u001b[39;49m\u001b[38;5;124;43m\"\u001b[39;49m\u001b[43m)\u001b[49m\u001b[43m \u001b[49m\u001b[43m\\\u001b[49m\n\u001b[1;32m     10\u001b[0m \u001b[43m    \u001b[49m\u001b[38;5;241;43m.\u001b[39;49m\u001b[43moption\u001b[49m\u001b[43m(\u001b[49m\u001b[38;5;124;43m\"\u001b[39;49m\u001b[38;5;124;43mheader\u001b[39;49m\u001b[38;5;124;43m\"\u001b[39;49m\u001b[43m,\u001b[49m\u001b[43m \u001b[49m\u001b[38;5;124;43m\"\u001b[39;49m\u001b[38;5;124;43mtrue\u001b[39;49m\u001b[38;5;124;43m\"\u001b[39;49m\u001b[43m)\u001b[49m\u001b[43m \u001b[49m\u001b[43m\\\u001b[49m\n\u001b[1;32m     11\u001b[0m \u001b[43m    \u001b[49m\u001b[38;5;241;43m.\u001b[39;49m\u001b[43moption\u001b[49m\u001b[43m(\u001b[49m\u001b[38;5;124;43m\"\u001b[39;49m\u001b[38;5;124;43mdataAddress\u001b[39;49m\u001b[38;5;124;43m\"\u001b[39;49m\u001b[43m,\u001b[49m\u001b[43m \u001b[49m\u001b[38;5;124;43m\"\u001b[39;49m\u001b[38;5;124;43m'\u001b[39;49m\u001b[38;5;124;43mSheet1\u001b[39;49m\u001b[38;5;124;43m'\u001b[39;49m\u001b[38;5;124;43m!A3\u001b[39;49m\u001b[38;5;124;43m\"\u001b[39;49m\u001b[43m)\u001b[49m\u001b[43m \u001b[49m\u001b[43m\\\u001b[49m\n\u001b[1;32m     12\u001b[0m \u001b[43m    \u001b[49m\u001b[38;5;241;43m.\u001b[39;49m\u001b[43moption\u001b[49m\u001b[43m(\u001b[49m\u001b[38;5;124;43m\"\u001b[39;49m\u001b[38;5;124;43museHeader\u001b[39;49m\u001b[38;5;124;43m\"\u001b[39;49m\u001b[43m,\u001b[49m\u001b[43m \u001b[49m\u001b[38;5;124;43m\"\u001b[39;49m\u001b[38;5;124;43mtrue\u001b[39;49m\u001b[38;5;124;43m\"\u001b[39;49m\u001b[43m)\u001b[49m\u001b[43m \u001b[49m\u001b[43m\\\u001b[49m\n\u001b[1;32m     13\u001b[0m \u001b[43m    \u001b[49m\u001b[38;5;241;43m.\u001b[39;49m\u001b[43moption\u001b[49m\u001b[43m(\u001b[49m\u001b[38;5;124;43m\"\u001b[39;49m\u001b[38;5;124;43mmaxRowsInMemory\u001b[39;49m\u001b[38;5;124;43m\"\u001b[39;49m\u001b[43m,\u001b[49m\u001b[43m \u001b[49m\u001b[38;5;241;43m1000\u001b[39;49m\u001b[43m)\u001b[49m\u001b[43m \u001b[49m\u001b[43m\\\u001b[49m\n\u001b[1;32m     14\u001b[0m \u001b[43m    \u001b[49m\u001b[38;5;241;43m.\u001b[39;49m\u001b[43moption\u001b[49m\u001b[43m(\u001b[49m\u001b[38;5;124;43m\"\u001b[39;49m\u001b[38;5;124;43minferSchema\u001b[39;49m\u001b[38;5;124;43m\"\u001b[39;49m\u001b[43m,\u001b[49m\u001b[43m \u001b[49m\u001b[38;5;124;43m\"\u001b[39;49m\u001b[38;5;124;43mtrue\u001b[39;49m\u001b[38;5;124;43m\"\u001b[39;49m\u001b[43m)\u001b[49m\u001b[43m \u001b[49m\u001b[43m\\\u001b[49m\n\u001b[0;32m---> 15\u001b[0m \u001b[43m    \u001b[49m\u001b[38;5;241;43m.\u001b[39;49m\u001b[43mload\u001b[49m\u001b[43m(\u001b[49m\u001b[43mexcel_file_path\u001b[49m\u001b[43m)\u001b[49m\n\u001b[1;32m     17\u001b[0m \u001b[38;5;66;03m# Selecionar apenas as colunas 'Linha' e 'Tot Passageiros Transportados'\u001b[39;00m\n\u001b[1;32m     18\u001b[0m df_selected \u001b[38;5;241m=\u001b[39m df_excel\u001b[38;5;241m.\u001b[39mselect(\u001b[38;5;124m\"\u001b[39m\u001b[38;5;124mLinha\u001b[39m\u001b[38;5;124m\"\u001b[39m, \u001b[38;5;124m\"\u001b[39m\u001b[38;5;124mTot Passageiros Transportados\u001b[39m\u001b[38;5;124m\"\u001b[39m)\n",
      "File \u001b[0;32m/usr/local/spark/python/pyspark/sql/readwriter.py:177\u001b[0m, in \u001b[0;36mDataFrameReader.load\u001b[0;34m(self, path, format, schema, **options)\u001b[0m\n\u001b[1;32m    175\u001b[0m \u001b[38;5;28mself\u001b[39m\u001b[38;5;241m.\u001b[39moptions(\u001b[38;5;241m*\u001b[39m\u001b[38;5;241m*\u001b[39moptions)\n\u001b[1;32m    176\u001b[0m \u001b[38;5;28;01mif\u001b[39;00m \u001b[38;5;28misinstance\u001b[39m(path, \u001b[38;5;28mstr\u001b[39m):\n\u001b[0;32m--> 177\u001b[0m     \u001b[38;5;28;01mreturn\u001b[39;00m \u001b[38;5;28mself\u001b[39m\u001b[38;5;241m.\u001b[39m_df(\u001b[38;5;28;43mself\u001b[39;49m\u001b[38;5;241;43m.\u001b[39;49m\u001b[43m_jreader\u001b[49m\u001b[38;5;241;43m.\u001b[39;49m\u001b[43mload\u001b[49m\u001b[43m(\u001b[49m\u001b[43mpath\u001b[49m\u001b[43m)\u001b[49m)\n\u001b[1;32m    178\u001b[0m \u001b[38;5;28;01melif\u001b[39;00m path \u001b[38;5;129;01mis\u001b[39;00m \u001b[38;5;129;01mnot\u001b[39;00m \u001b[38;5;28;01mNone\u001b[39;00m:\n\u001b[1;32m    179\u001b[0m     \u001b[38;5;28;01mif\u001b[39;00m \u001b[38;5;28mtype\u001b[39m(path) \u001b[38;5;241m!=\u001b[39m \u001b[38;5;28mlist\u001b[39m:\n",
      "File \u001b[0;32m/usr/local/spark/python/lib/py4j-0.10.9.5-src.zip/py4j/java_gateway.py:1321\u001b[0m, in \u001b[0;36mJavaMember.__call__\u001b[0;34m(self, *args)\u001b[0m\n\u001b[1;32m   1315\u001b[0m command \u001b[38;5;241m=\u001b[39m proto\u001b[38;5;241m.\u001b[39mCALL_COMMAND_NAME \u001b[38;5;241m+\u001b[39m\\\n\u001b[1;32m   1316\u001b[0m     \u001b[38;5;28mself\u001b[39m\u001b[38;5;241m.\u001b[39mcommand_header \u001b[38;5;241m+\u001b[39m\\\n\u001b[1;32m   1317\u001b[0m     args_command \u001b[38;5;241m+\u001b[39m\\\n\u001b[1;32m   1318\u001b[0m     proto\u001b[38;5;241m.\u001b[39mEND_COMMAND_PART\n\u001b[1;32m   1320\u001b[0m answer \u001b[38;5;241m=\u001b[39m \u001b[38;5;28mself\u001b[39m\u001b[38;5;241m.\u001b[39mgateway_client\u001b[38;5;241m.\u001b[39msend_command(command)\n\u001b[0;32m-> 1321\u001b[0m return_value \u001b[38;5;241m=\u001b[39m \u001b[43mget_return_value\u001b[49m\u001b[43m(\u001b[49m\n\u001b[1;32m   1322\u001b[0m \u001b[43m    \u001b[49m\u001b[43manswer\u001b[49m\u001b[43m,\u001b[49m\u001b[43m \u001b[49m\u001b[38;5;28;43mself\u001b[39;49m\u001b[38;5;241;43m.\u001b[39;49m\u001b[43mgateway_client\u001b[49m\u001b[43m,\u001b[49m\u001b[43m \u001b[49m\u001b[38;5;28;43mself\u001b[39;49m\u001b[38;5;241;43m.\u001b[39;49m\u001b[43mtarget_id\u001b[49m\u001b[43m,\u001b[49m\u001b[43m \u001b[49m\u001b[38;5;28;43mself\u001b[39;49m\u001b[38;5;241;43m.\u001b[39;49m\u001b[43mname\u001b[49m\u001b[43m)\u001b[49m\n\u001b[1;32m   1324\u001b[0m \u001b[38;5;28;01mfor\u001b[39;00m temp_arg \u001b[38;5;129;01min\u001b[39;00m temp_args:\n\u001b[1;32m   1325\u001b[0m     temp_arg\u001b[38;5;241m.\u001b[39m_detach()\n",
      "File \u001b[0;32m/usr/local/spark/python/pyspark/sql/utils.py:190\u001b[0m, in \u001b[0;36mcapture_sql_exception.<locals>.deco\u001b[0;34m(*a, **kw)\u001b[0m\n\u001b[1;32m    188\u001b[0m \u001b[38;5;28;01mdef\u001b[39;00m \u001b[38;5;21mdeco\u001b[39m(\u001b[38;5;241m*\u001b[39ma: Any, \u001b[38;5;241m*\u001b[39m\u001b[38;5;241m*\u001b[39mkw: Any) \u001b[38;5;241m-\u001b[39m\u001b[38;5;241m>\u001b[39m Any:\n\u001b[1;32m    189\u001b[0m     \u001b[38;5;28;01mtry\u001b[39;00m:\n\u001b[0;32m--> 190\u001b[0m         \u001b[38;5;28;01mreturn\u001b[39;00m \u001b[43mf\u001b[49m\u001b[43m(\u001b[49m\u001b[38;5;241;43m*\u001b[39;49m\u001b[43ma\u001b[49m\u001b[43m,\u001b[49m\u001b[43m \u001b[49m\u001b[38;5;241;43m*\u001b[39;49m\u001b[38;5;241;43m*\u001b[39;49m\u001b[43mkw\u001b[49m\u001b[43m)\u001b[49m\n\u001b[1;32m    191\u001b[0m     \u001b[38;5;28;01mexcept\u001b[39;00m Py4JJavaError \u001b[38;5;28;01mas\u001b[39;00m e:\n\u001b[1;32m    192\u001b[0m         converted \u001b[38;5;241m=\u001b[39m convert_exception(e\u001b[38;5;241m.\u001b[39mjava_exception)\n",
      "File \u001b[0;32m/usr/local/spark/python/lib/py4j-0.10.9.5-src.zip/py4j/protocol.py:326\u001b[0m, in \u001b[0;36mget_return_value\u001b[0;34m(answer, gateway_client, target_id, name)\u001b[0m\n\u001b[1;32m    324\u001b[0m value \u001b[38;5;241m=\u001b[39m OUTPUT_CONVERTER[\u001b[38;5;28mtype\u001b[39m](answer[\u001b[38;5;241m2\u001b[39m:], gateway_client)\n\u001b[1;32m    325\u001b[0m \u001b[38;5;28;01mif\u001b[39;00m answer[\u001b[38;5;241m1\u001b[39m] \u001b[38;5;241m==\u001b[39m REFERENCE_TYPE:\n\u001b[0;32m--> 326\u001b[0m     \u001b[38;5;28;01mraise\u001b[39;00m Py4JJavaError(\n\u001b[1;32m    327\u001b[0m         \u001b[38;5;124m\"\u001b[39m\u001b[38;5;124mAn error occurred while calling \u001b[39m\u001b[38;5;132;01m{0}\u001b[39;00m\u001b[38;5;132;01m{1}\u001b[39;00m\u001b[38;5;132;01m{2}\u001b[39;00m\u001b[38;5;124m.\u001b[39m\u001b[38;5;130;01m\\n\u001b[39;00m\u001b[38;5;124m\"\u001b[39m\u001b[38;5;241m.\u001b[39m\n\u001b[1;32m    328\u001b[0m         \u001b[38;5;28mformat\u001b[39m(target_id, \u001b[38;5;124m\"\u001b[39m\u001b[38;5;124m.\u001b[39m\u001b[38;5;124m\"\u001b[39m, name), value)\n\u001b[1;32m    329\u001b[0m \u001b[38;5;28;01melse\u001b[39;00m:\n\u001b[1;32m    330\u001b[0m     \u001b[38;5;28;01mraise\u001b[39;00m Py4JError(\n\u001b[1;32m    331\u001b[0m         \u001b[38;5;124m\"\u001b[39m\u001b[38;5;124mAn error occurred while calling \u001b[39m\u001b[38;5;132;01m{0}\u001b[39;00m\u001b[38;5;132;01m{1}\u001b[39;00m\u001b[38;5;132;01m{2}\u001b[39;00m\u001b[38;5;124m. Trace:\u001b[39m\u001b[38;5;130;01m\\n\u001b[39;00m\u001b[38;5;132;01m{3}\u001b[39;00m\u001b[38;5;130;01m\\n\u001b[39;00m\u001b[38;5;124m\"\u001b[39m\u001b[38;5;241m.\u001b[39m\n\u001b[1;32m    332\u001b[0m         \u001b[38;5;28mformat\u001b[39m(target_id, \u001b[38;5;124m\"\u001b[39m\u001b[38;5;124m.\u001b[39m\u001b[38;5;124m\"\u001b[39m, name, value))\n",
      "\u001b[0;31mPy4JJavaError\u001b[0m: An error occurred while calling o102.load.\n: java.lang.ClassNotFoundException: \nFailed to find data source: com.crealytics.spark.excel. Please find packages at\nhttps://spark.apache.org/third-party-projects.html\n       \n\tat org.apache.spark.sql.errors.QueryExecutionErrors$.failedToFindDataSourceError(QueryExecutionErrors.scala:587)\n\tat org.apache.spark.sql.execution.datasources.DataSource$.lookupDataSource(DataSource.scala:675)\n\tat org.apache.spark.sql.execution.datasources.DataSource$.lookupDataSourceV2(DataSource.scala:725)\n\tat org.apache.spark.sql.DataFrameReader.load(DataFrameReader.scala:207)\n\tat org.apache.spark.sql.DataFrameReader.load(DataFrameReader.scala:185)\n\tat java.base/jdk.internal.reflect.NativeMethodAccessorImpl.invoke0(Native Method)\n\tat java.base/jdk.internal.reflect.NativeMethodAccessorImpl.invoke(NativeMethodAccessorImpl.java:77)\n\tat java.base/jdk.internal.reflect.DelegatingMethodAccessorImpl.invoke(DelegatingMethodAccessorImpl.java:43)\n\tat java.base/java.lang.reflect.Method.invoke(Method.java:568)\n\tat py4j.reflection.MethodInvoker.invoke(MethodInvoker.java:244)\n\tat py4j.reflection.ReflectionEngine.invoke(ReflectionEngine.java:357)\n\tat py4j.Gateway.invoke(Gateway.java:282)\n\tat py4j.commands.AbstractCommand.invokeMethod(AbstractCommand.java:132)\n\tat py4j.commands.CallCommand.execute(CallCommand.java:79)\n\tat py4j.ClientServerConnection.waitForCommands(ClientServerConnection.java:182)\n\tat py4j.ClientServerConnection.run(ClientServerConnection.java:106)\n\tat java.base/java.lang.Thread.run(Thread.java:833)\nCaused by: java.lang.ClassNotFoundException: com.crealytics.spark.excel.DefaultSource\n\tat java.base/java.net.URLClassLoader.findClass(URLClassLoader.java:445)\n\tat java.base/java.lang.ClassLoader.loadClass(ClassLoader.java:587)\n\tat java.base/java.lang.ClassLoader.loadClass(ClassLoader.java:520)\n\tat org.apache.spark.sql.execution.datasources.DataSource$.$anonfun$lookupDataSource$5(DataSource.scala:661)\n\tat scala.util.Try$.apply(Try.scala:213)\n\tat org.apache.spark.sql.execution.datasources.DataSource$.$anonfun$lookupDataSource$4(DataSource.scala:661)\n\tat scala.util.Failure.orElse(Try.scala:224)\n\tat org.apache.spark.sql.execution.datasources.DataSource$.lookupDataSource(DataSource.scala:661)\n\t... 15 more\n"
     ]
    }
   ],
   "source": [
    "# Lista todos os arquivos Excel no diretório\n",
    "files_df = spark.read.format(\"binaryFile\").load(raw_path)\n",
    "# Itera sobre os arquivos encontrados\n",
    "for row in files_df.collect():\n",
    "    excel_file_path = row[\"path\"]\n",
    "    file_name = os.path.basename(excel_file_path).replace(\".xlsx\", \"\")\n",
    "    \n",
    "    # Lê cada planilha Excel (primeira aba por padrão)\n",
    "    df_excel = spark.read.format(\"com.crealytics.spark.excel\") \\\n",
    "        .option(\"header\", \"true\") \\\n",
    "        .option(\"dataAddress\", \"'Sheet1'!A3\") \\\n",
    "        .option(\"useHeader\", \"true\") \\\n",
    "        .option(\"maxRowsInMemory\", 1000) \\\n",
    "        .option(\"inferSchema\", \"true\") \\\n",
    "        .load(excel_file_path)\n",
    "    \n",
    "    # Selecionar apenas as colunas 'Linha' e 'Tot Passageiros Transportados'\n",
    "    df_selected = df_excel.select(\"Linha\", \"Tot Passageiros Transportados\")\n",
    "\n",
    "    # Adiciona a coluna 'Média Diária', dividindo 'Tot Passageiros Transportados' por 30\n",
    "    df_media_mensal = df_selected.withColumn(\"Média Diária\", col(\"Tot Passageiros Transportados\") / 30)\n",
    "\n",
    "    # Define o caminho de destino usando o nome do arquivo original\n",
    "    destination_path = os.path.join(trusted_path, file_name)\n",
    "    \n",
    "    # Salva o DataFrame processado no formato Parquet\n",
    "    df_media_mensal.write.mode(\"overwrite\").parquet(destination_path)"
   ]
  },
  {
   "cell_type": "code",
   "execution_count": null,
   "id": "5b05bec7-c7b3-466c-a29a-39a60e2c7c5b",
   "metadata": {},
   "outputs": [],
   "source": []
  },
  {
   "cell_type": "code",
   "execution_count": null,
   "id": "51c8c9f4-eaac-43a2-b0b0-b34f0958928c",
   "metadata": {},
   "outputs": [],
   "source": []
  },
  {
   "cell_type": "code",
   "execution_count": null,
   "id": "ac3e36c0-aa12-419b-a380-173f42ce051f",
   "metadata": {},
   "outputs": [],
   "source": []
  },
  {
   "cell_type": "code",
   "execution_count": null,
   "id": "724605c4-d605-4af0-9b79-a6104363831a",
   "metadata": {},
   "outputs": [],
   "source": []
  }
 ],
 "metadata": {
  "kernelspec": {
   "display_name": "Python 3 (ipykernel)",
   "language": "python",
   "name": "python3"
  },
  "language_info": {
   "codemirror_mode": {
    "name": "ipython",
    "version": 3
   },
   "file_extension": ".py",
   "mimetype": "text/x-python",
   "name": "python",
   "nbconvert_exporter": "python",
   "pygments_lexer": "ipython3",
   "version": "3.10.8"
  }
 },
 "nbformat": 4,
 "nbformat_minor": 5
}
