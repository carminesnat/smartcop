{
 "cells": [
  {
   "cell_type": "markdown",
   "id": "4bf0d324-6252-4bee-8a53-37189977952a",
   "metadata": {
    "tags": []
   },
   "source": [
    "# Sessão Spark e Configurações Iniciais"
   ]
  },
  {
   "cell_type": "code",
   "execution_count": 80,
   "id": "ff56a975-3bec-476d-9150-4ae3b614da77",
   "metadata": {},
   "outputs": [],
   "source": [
    "from pyspark.sql import SparkSession"
   ]
  },
  {
   "cell_type": "code",
   "execution_count": 81,
   "id": "cf5d57ff-7822-4b20-9da6-c83078bd46d1",
   "metadata": {},
   "outputs": [
    {
     "data": {
      "text/html": [
       "\n",
       "            <div>\n",
       "                <p><b>SparkSession - in-memory</b></p>\n",
       "                \n",
       "        <div>\n",
       "            <p><b>SparkContext</b></p>\n",
       "\n",
       "            <p><a href=\"http://spark-master:4040\">Spark UI</a></p>\n",
       "\n",
       "            <dl>\n",
       "              <dt>Version</dt>\n",
       "                <dd><code>v3.3.1</code></dd>\n",
       "              <dt>Master</dt>\n",
       "                <dd><code>local[*]</code></dd>\n",
       "              <dt>AppName</dt>\n",
       "                <dd><code>ProcessRawToTrusted</code></dd>\n",
       "            </dl>\n",
       "        </div>\n",
       "        \n",
       "            </div>\n",
       "        "
      ],
      "text/plain": [
       "<pyspark.sql.session.SparkSession at 0x7f74272f56f0>"
      ]
     },
     "execution_count": 81,
     "metadata": {},
     "output_type": "execute_result"
    }
   ],
   "source": [
    "spark"
   ]
  },
  {
   "cell_type": "code",
   "execution_count": 82,
   "id": "635a68ad-19d6-4257-926f-fd79065c030a",
   "metadata": {},
   "outputs": [],
   "source": [
    "# Inicializa a sessão Spark\n",
    "spark = SparkSession.builder.appName(\"ProcessRawToTrusted\").getOrCreate()\n",
    "\n",
    "# Configura o acesso ao MinIO\n",
    "hadoop_conf = spark.sparkContext._jsc.hadoopConfiguration()\n",
    "hadoop_conf.set(\"fs.s3a.access.key\", \"datalake\")\n",
    "hadoop_conf.set(\"fs.s3a.secret.key\", \"datalake\")\n",
    "hadoop_conf.set(\"fs.s3a.endpoint\", \"http://minio:9000\")\n",
    "hadoop_conf.set(\"fs.s3a.path.style.access\", \"true\")\n",
    "hadoop_conf.set(\"fs.s3a.impl\", \"org.apache.hadoop.fs.s3a.S3AFileSystem\")\n"
   ]
  },
  {
   "cell_type": "code",
   "execution_count": 124,
   "id": "0089b22b-7ef6-4ea4-a9b8-62b4a371455a",
   "metadata": {},
   "outputs": [],
   "source": [
    "# Defina o caminho de entrada e saída com base na data\n",
    "from datetime import datetime\n",
    "\n",
    "today = datetime.today().strftime('%Y-%m-%d')\n",
    "raw_path = f\"s3a://raw/busposition/{today}\"\n",
    "trusted_path = f\"s3a://trusted/busposition/{today}\"\n",
    "\n",
    "routes_trusted_path = f\"s3a://trusted/routes/\"\n",
    "positions_trusted_path = f\"s3a://trusted/positions/\""
   ]
  },
  {
   "cell_type": "code",
   "execution_count": 131,
   "id": "e014dce0-afff-4ea9-962b-3f2c79ced7b9",
   "metadata": {
    "tags": []
   },
   "outputs": [],
   "source": [
    "from pyspark.sql.functions import explode, col\n",
    "\n",
    "# Exibe a lista de arquivos\n",
    "files_df = spark.read.format(\"binaryFile\").load(raw_path)\n",
    "files_df.select(\"path\").show(truncate=False)\n",
    "\n",
    "# Itera sobre os arquivos\n",
    "for row in files_df.collect():\n",
    "    raw_file_path = row[\"path\"]\n",
    "    raw_file_date = raw_file_path.split('_')[-1].split('.')[0]\n",
    "    \n",
    "    df_raw = spark.read.json(raw_file_path)\n",
    "    \n",
    "    # Explodir o array \"l\" para acessar as informações de cada linha de ônibus\n",
    "    df_lines = df_raw.select(explode(col(\"l\")).alias(\"linha\"))\n",
    "\n",
    "    # DataFrame com as informações de \"c\" até \"qv\"\n",
    "    df_bus_lines = df_lines.select(\n",
    "        col(\"linha.c\").alias(\"letreiro\"),\n",
    "        col(\"linha.cl\").alias(\"codigo_trajeto\"),\n",
    "        col(\"linha.sl\").alias(\"sentido\"),\n",
    "        col(\"linha.lt0\").alias(\"terminal_primario\"),\n",
    "        col(\"linha.lt1\").alias(\"terminal_secundario\"),\n",
    "        col(\"linha.qv\").alias(\"qnt_veiculos\")\n",
    "    )\n",
    "\n",
    "    # Explodir o array \"vs\" para acessar as informações de cada veículo dentro da linha de ônibus\n",
    "    df_vehicles = df_lines.select(\n",
    "        col(\"linha.cl\").alias(\"codigo_trajeto\"),\n",
    "        explode(col(\"linha.vs\")).alias(\"vehicle\")\n",
    "    )\n",
    "\n",
    "    # DataFrame com as informações de \"p\" até \"px\"\n",
    "    df_vehicles_position = df_vehicles.select(\n",
    "        col(\"codigo_trajeto\"),\n",
    "        col(\"vehicle.p\").alias(\"prefixo_veiculo\"),\n",
    "        col(\"vehicle.py\").alias(\"latitude\"),\n",
    "        col(\"vehicle.px\").alias(\"longitude\")\n",
    "    )\n",
    "    \n",
    "    # Define as variáveis de caminho para salvar os DataFrames\n",
    "    routes_trusted_path = f\"s3a://trusted/routes/{today}/routes_{raw_file_date}.json\"\n",
    "    positions_trusted_path = f\"s3a://trusted/positions/{today}/positions_{raw_file_date}.json\"\n",
    "    \n",
    "    # Salva os DataFrames no caminho definido\n",
    "    df_bus_lines.write.mode(\"overwrite\").json(routes_trusted_path)\n",
    "    df_vehicles_position.write.mode(\"overwrite\").json(positions_trusted_path)"
   ]
  },
  {
   "cell_type": "code",
   "execution_count": null,
   "id": "5b11a5fa-51fd-4eaf-899b-656246003c0b",
   "metadata": {},
   "outputs": [
    {
     "name": "stdout",
     "output_type": "stream",
     "text": [
      "s3a://trusted/routes/2024-10-13 s3a://trusted/positions/2024-10-13\n"
     ]
    }
   ],
   "source": [
    "print(routes_trusted_path + today, positions_trusted_path + today)"
   ]
  },
  {
   "cell_type": "markdown",
   "id": "4ee2e126-f726-4af3-aa7c-bfce20e0e678",
   "metadata": {
    "tags": []
   },
   "source": [
    "# Coleta de dados da camada crua"
   ]
  },
  {
   "cell_type": "code",
   "execution_count": null,
   "id": "ab323724-38bf-41a8-ac9b-42b8b4fec902",
   "metadata": {},
   "outputs": [],
   "source": [
    "# Exibir o DataFrame de \"c\" até \"qv\"\n",
    "df_bus_lines.show(truncate=False)\n",
    "\n",
    "# Exibir o DataFrame de \"p\" até \"px\"\n",
    "df_vehicles_position.show(truncate=False)"
   ]
  },
  {
   "cell_type": "code",
   "execution_count": 115,
   "id": "7a6aca91-6eab-4b14-9551-38b1094c017b",
   "metadata": {},
   "outputs": [
    {
     "data": {
      "text/plain": [
       "1848"
      ]
     },
     "execution_count": 115,
     "metadata": {},
     "output_type": "execute_result"
    }
   ],
   "source": [
    "df_bus_lines.count()"
   ]
  },
  {
   "cell_type": "code",
   "execution_count": 116,
   "id": "3c0184ff-6d44-4973-9104-44f481fe7e5e",
   "metadata": {},
   "outputs": [
    {
     "data": {
      "text/plain": [
       "6241"
      ]
     },
     "execution_count": 116,
     "metadata": {},
     "output_type": "execute_result"
    }
   ],
   "source": [
    "df_vehicles_position.count()"
   ]
  },
  {
   "cell_type": "code",
   "execution_count": null,
   "id": "a05d3a2e-f630-41bc-b5a1-46e0ce961edd",
   "metadata": {},
   "outputs": [],
   "source": []
  },
  {
   "cell_type": "code",
   "execution_count": null,
   "id": "3d8a0323-82d7-4c4e-b918-0d0ba1caf351",
   "metadata": {},
   "outputs": [],
   "source": []
  },
  {
   "cell_type": "code",
   "execution_count": null,
   "id": "78e4e515-78e0-4248-9680-2aa62b0d60d8",
   "metadata": {},
   "outputs": [],
   "source": []
  },
  {
   "cell_type": "code",
   "execution_count": null,
   "id": "fc1d6484-7a9b-494c-a3f9-383d4445fe06",
   "metadata": {},
   "outputs": [],
   "source": []
  },
  {
   "cell_type": "code",
   "execution_count": null,
   "id": "abbd183b-7ba6-4ac3-a0ab-0122ba48df37",
   "metadata": {},
   "outputs": [],
   "source": []
  },
  {
   "cell_type": "code",
   "execution_count": null,
   "id": "514f6147-62ee-4a5a-9884-af5c24f72b36",
   "metadata": {},
   "outputs": [],
   "source": []
  },
  {
   "cell_type": "code",
   "execution_count": null,
   "id": "3d9288b2-a6af-4385-b353-a342d91c314c",
   "metadata": {},
   "outputs": [],
   "source": []
  },
  {
   "cell_type": "code",
   "execution_count": null,
   "id": "d5ead75d-144f-4b35-ac98-07b16c0c964f",
   "metadata": {},
   "outputs": [],
   "source": []
  },
  {
   "cell_type": "code",
   "execution_count": null,
   "id": "c3b96c5a-841d-49ba-9fe4-a79c6889abd3",
   "metadata": {},
   "outputs": [],
   "source": []
  }
 ],
 "metadata": {
  "kernelspec": {
   "display_name": "Python 3 (ipykernel)",
   "language": "python",
   "name": "python3"
  },
  "language_info": {
   "codemirror_mode": {
    "name": "ipython",
    "version": 3
   },
   "file_extension": ".py",
   "mimetype": "text/x-python",
   "name": "python",
   "nbconvert_exporter": "python",
   "pygments_lexer": "ipython3",
   "version": "3.10.8"
  }
 },
 "nbformat": 4,
 "nbformat_minor": 5
}
